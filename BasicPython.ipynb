{
  "nbformat": 4,
  "nbformat_minor": 0,
  "metadata": {
    "colab": {
      "provenance": [],
      "toc_visible": true,
      "include_colab_link": true
    },
    "kernelspec": {
      "name": "python3",
      "display_name": "Python 3"
    },
    "language_info": {
      "name": "python"
    }
  },
  "cells": [
    {
      "cell_type": "markdown",
      "metadata": {
        "id": "view-in-github",
        "colab_type": "text"
      },
      "source": [
        "<a href=\"https://colab.research.google.com/github/SanketMhatre94/tsf1/blob/main/BasicPython.ipynb\" target=\"_parent\"><img src=\"https://colab.research.google.com/assets/colab-badge.svg\" alt=\"Open In Colab\"/></a>"
      ]
    },
    {
      "cell_type": "markdown",
      "source": [
        "# Python Output"
      ],
      "metadata": {
        "id": "FPkCg9QWIySx"
      }
    },
    {
      "cell_type": "code",
      "source": [
        "# print()\n",
        "\n",
        "print(22)"
      ],
      "metadata": {
        "colab": {
          "base_uri": "https://localhost:8080/"
        },
        "id": "V4wLDI18I1Vi",
        "outputId": "3a8c9573-6e9b-4497-ebdf-3f114a2756e5"
      },
      "execution_count": null,
      "outputs": [
        {
          "output_type": "stream",
          "name": "stdout",
          "text": [
            "22\n"
          ]
        }
      ]
    },
    {
      "cell_type": "code",
      "source": [
        "print(\"hello world\")"
      ],
      "metadata": {
        "colab": {
          "base_uri": "https://localhost:8080/"
        },
        "id": "z8DDTFosJYbi",
        "outputId": "d21759df-dffa-4a41-d9c4-46a6fe0dc52f"
      },
      "execution_count": null,
      "outputs": [
        {
          "output_type": "stream",
          "name": "stdout",
          "text": [
            "hello world\n"
          ]
        }
      ]
    },
    {
      "cell_type": "code",
      "source": [
        "print(\"hello\", 2 , 3,5)"
      ],
      "metadata": {
        "colab": {
          "base_uri": "https://localhost:8080/"
        },
        "id": "S75dqCV6JeAp",
        "outputId": "4d962ad2-8959-4ef0-86b0-e08f10dddd81"
      },
      "execution_count": null,
      "outputs": [
        {
          "output_type": "stream",
          "name": "stdout",
          "text": [
            "hello 2 3 5\n"
          ]
        }
      ]
    },
    {
      "cell_type": "code",
      "source": [
        "print(\"hello\", 2 , 3,5, sep='>')"
      ],
      "metadata": {
        "colab": {
          "base_uri": "https://localhost:8080/"
        },
        "id": "BPKmVvCZJkG6",
        "outputId": "395e0925-96a6-4a3e-be8e-327e018c15f4"
      },
      "execution_count": null,
      "outputs": [
        {
          "output_type": "stream",
          "name": "stdout",
          "text": [
            "hello>2>3>5\n"
          ]
        }
      ]
    },
    {
      "cell_type": "markdown",
      "source": [
        "# Data Type\n"
      ],
      "metadata": {
        "id": "0-dwwycIJsA0"
      }
    },
    {
      "cell_type": "markdown",
      "source": [
        "Intiger 1, 2, 3, 4,....\n",
        "\n",
        "Float   1.1,2.3, 3.4,....\n",
        "\n",
        "String  abc , xyz\n",
        "\n",
        "Boolean True, false"
      ],
      "metadata": {
        "id": "pANOfHYmJvGZ"
      }
    },
    {
      "cell_type": "code",
      "source": [
        "print(7)"
      ],
      "metadata": {
        "colab": {
          "base_uri": "https://localhost:8080/"
        },
        "id": "-SmCzLyYKAX6",
        "outputId": "94007d10-b529-40e7-df11-a219fe2e5746"
      },
      "execution_count": null,
      "outputs": [
        {
          "output_type": "stream",
          "name": "stdout",
          "text": [
            "7\n"
          ]
        }
      ]
    },
    {
      "cell_type": "code",
      "source": [
        "#type\n",
        "type(7)"
      ],
      "metadata": {
        "colab": {
          "base_uri": "https://localhost:8080/"
        },
        "id": "0Y_VOwyDKdNq",
        "outputId": "5ce7e46d-83d3-4f2d-d85c-3f1cf41e075a"
      },
      "execution_count": null,
      "outputs": [
        {
          "output_type": "execute_result",
          "data": {
            "text/plain": [
              "int"
            ]
          },
          "metadata": {},
          "execution_count": 7
        }
      ]
    },
    {
      "cell_type": "code",
      "source": [
        "print(9.9)\n",
        "type(9.95454145)"
      ],
      "metadata": {
        "colab": {
          "base_uri": "https://localhost:8080/"
        },
        "id": "_eaj5MOcKj0n",
        "outputId": "59e3cd11-8c1f-4457-a158-1960e91ee083"
      },
      "execution_count": null,
      "outputs": [
        {
          "output_type": "stream",
          "name": "stdout",
          "text": [
            "9.9\n"
          ]
        },
        {
          "output_type": "execute_result",
          "data": {
            "text/plain": [
              "float"
            ]
          },
          "metadata": {},
          "execution_count": 9
        }
      ]
    },
    {
      "cell_type": "code",
      "source": [
        "print(\"Hello\")\n",
        "type('hello')"
      ],
      "metadata": {
        "colab": {
          "base_uri": "https://localhost:8080/"
        },
        "id": "dv1FWm0eKr5T",
        "outputId": "acdfe2e1-2ef9-4270-c124-2fbf53fd0d73"
      },
      "execution_count": null,
      "outputs": [
        {
          "output_type": "stream",
          "name": "stdout",
          "text": [
            "Hello\n"
          ]
        },
        {
          "output_type": "execute_result",
          "data": {
            "text/plain": [
              "str"
            ]
          },
          "metadata": {},
          "execution_count": 10
        }
      ]
    },
    {
      "cell_type": "code",
      "source": [
        "type(False)\n"
      ],
      "metadata": {
        "colab": {
          "base_uri": "https://localhost:8080/"
        },
        "id": "FzfbYWpLKzHa",
        "outputId": "651924bb-27a5-4f4e-c9e9-8dd45cb87b85"
      },
      "execution_count": null,
      "outputs": [
        {
          "output_type": "execute_result",
          "data": {
            "text/plain": [
              "bool"
            ]
          },
          "metadata": {},
          "execution_count": 12
        }
      ]
    },
    {
      "cell_type": "markdown",
      "source": [
        "# Variables"
      ],
      "metadata": {
        "id": "LgDhPNjCK9Pj"
      }
    },
    {
      "cell_type": "code",
      "source": [
        "a = 1\n",
        "b = 2\n",
        "c = 3\n",
        "print(a, b, c)"
      ],
      "metadata": {
        "colab": {
          "base_uri": "https://localhost:8080/"
        },
        "id": "ltgsv05rK_tL",
        "outputId": "0f8a829a-b157-47ff-d233-ac5d292007a0"
      },
      "execution_count": null,
      "outputs": [
        {
          "output_type": "stream",
          "name": "stdout",
          "text": [
            "1 2 3\n"
          ]
        }
      ]
    },
    {
      "cell_type": "code",
      "source": [
        "x, y , z = 1, 2, 3\n",
        "print(x, y,z)"
      ],
      "metadata": {
        "colab": {
          "base_uri": "https://localhost:8080/"
        },
        "id": "cUCHgEq_LTiD",
        "outputId": "048ee51a-62bb-4db5-f48a-b2cfe0e12d69"
      },
      "execution_count": null,
      "outputs": [
        {
          "output_type": "stream",
          "name": "stdout",
          "text": [
            "1 2 3\n"
          ]
        }
      ]
    },
    {
      "cell_type": "code",
      "source": [
        "l = \"jeet\"\n",
        "print(l)"
      ],
      "metadata": {
        "colab": {
          "base_uri": "https://localhost:8080/"
        },
        "id": "S8KfrvygLeHC",
        "outputId": "e1d07cd7-b422-45dd-941e-f384b2fd3aed"
      },
      "execution_count": null,
      "outputs": [
        {
          "output_type": "stream",
          "name": "stdout",
          "text": [
            "jeet\n"
          ]
        }
      ]
    },
    {
      "cell_type": "code",
      "source": [
        "l = m = n = 5\n",
        "print(l, m, n)"
      ],
      "metadata": {
        "colab": {
          "base_uri": "https://localhost:8080/"
        },
        "id": "duhCybLuLoBM",
        "outputId": "490071ed-6f2f-496d-8726-0145bdacdcfb"
      },
      "execution_count": null,
      "outputs": [
        {
          "output_type": "stream",
          "name": "stdout",
          "text": [
            "5 5 5\n"
          ]
        }
      ]
    },
    {
      "cell_type": "markdown",
      "source": [
        "List []\n",
        "\n",
        "\n",
        "*   Mutable\n",
        "*   Allow duplicate\n",
        "\n"
      ],
      "metadata": {
        "id": "rRFn9vGuL015"
      }
    },
    {
      "cell_type": "code",
      "source": [
        "li = [1,2,3,4,'sa',3]\n",
        "print(li)"
      ],
      "metadata": {
        "colab": {
          "base_uri": "https://localhost:8080/"
        },
        "id": "HT-UC89sMB2p",
        "outputId": "c2f5a129-607e-42e4-92c3-ec7649f85baf"
      },
      "execution_count": null,
      "outputs": [
        {
          "output_type": "stream",
          "name": "stdout",
          "text": [
            "[1, 2, 3, 4, 'sa', 3]\n"
          ]
        }
      ]
    },
    {
      "cell_type": "code",
      "source": [
        "type(li)"
      ],
      "metadata": {
        "colab": {
          "base_uri": "https://localhost:8080/"
        },
        "id": "BkxmVv8CMm9y",
        "outputId": "0462f04d-6426-4474-909e-c25069725a65"
      },
      "execution_count": null,
      "outputs": [
        {
          "output_type": "execute_result",
          "data": {
            "text/plain": [
              "list"
            ]
          },
          "metadata": {},
          "execution_count": 23
        }
      ]
    },
    {
      "cell_type": "code",
      "source": [
        "li[0] = 6\n",
        "print(li)"
      ],
      "metadata": {
        "colab": {
          "base_uri": "https://localhost:8080/"
        },
        "id": "M-ZR_lvpMryC",
        "outputId": "8c535b49-d286-45f4-fe68-bef97ecb9997"
      },
      "execution_count": null,
      "outputs": [
        {
          "output_type": "stream",
          "name": "stdout",
          "text": [
            "[6, 2, 3, 4, 'sa', 3]\n"
          ]
        }
      ]
    },
    {
      "cell_type": "markdown",
      "source": [
        "Tuple ( )\n",
        "\n",
        "\n",
        "*   im mutabel\n",
        "*   allow duplicates\n",
        "\n"
      ],
      "metadata": {
        "id": "0W86rBwKNHy7"
      }
    },
    {
      "cell_type": "code",
      "source": [
        "tu = (5,7,8,2, 'saas', 8)\n",
        "print(tu)"
      ],
      "metadata": {
        "colab": {
          "base_uri": "https://localhost:8080/"
        },
        "id": "1deJZ6D1NVbS",
        "outputId": "8990be3e-a2e5-4f01-9780-df090ed1c075"
      },
      "execution_count": null,
      "outputs": [
        {
          "output_type": "stream",
          "name": "stdout",
          "text": [
            "(5, 7, 8, 2, 'saas', 8)\n"
          ]
        }
      ]
    },
    {
      "cell_type": "code",
      "source": [
        "type(tu)"
      ],
      "metadata": {
        "colab": {
          "base_uri": "https://localhost:8080/"
        },
        "id": "PF3zKLQYNjsa",
        "outputId": "56dad147-f9df-40bc-a4ca-45a4da955155"
      },
      "execution_count": null,
      "outputs": [
        {
          "output_type": "execute_result",
          "data": {
            "text/plain": [
              "tuple"
            ]
          },
          "metadata": {},
          "execution_count": 28
        }
      ]
    },
    {
      "cell_type": "code",
      "source": [
        "tu[0] = 4"
      ],
      "metadata": {
        "colab": {
          "base_uri": "https://localhost:8080/",
          "height": 147
        },
        "id": "WbU8k0z8NpRi",
        "outputId": "bc951c81-2242-472c-b8e7-9cc120ef1f38"
      },
      "execution_count": null,
      "outputs": [
        {
          "output_type": "error",
          "ename": "TypeError",
          "evalue": "'tuple' object does not support item assignment",
          "traceback": [
            "\u001b[0;31m---------------------------------------------------------------------------\u001b[0m",
            "\u001b[0;31mTypeError\u001b[0m                                 Traceback (most recent call last)",
            "\u001b[0;32m<ipython-input-29-9143d87baebf>\u001b[0m in \u001b[0;36m<cell line: 1>\u001b[0;34m()\u001b[0m\n\u001b[0;32m----> 1\u001b[0;31m \u001b[0mtu\u001b[0m\u001b[0;34m[\u001b[0m\u001b[0;36m0\u001b[0m\u001b[0;34m]\u001b[0m \u001b[0;34m=\u001b[0m \u001b[0;36m4\u001b[0m\u001b[0;34m\u001b[0m\u001b[0;34m\u001b[0m\u001b[0m\n\u001b[0m",
            "\u001b[0;31mTypeError\u001b[0m: 'tuple' object does not support item assignment"
          ]
        }
      ]
    },
    {
      "cell_type": "markdown",
      "source": [
        "Set { }\n",
        "\n",
        "\n",
        "*   Immutable\n",
        "*   unorder\n",
        "*   no duplicates\n",
        "\n"
      ],
      "metadata": {
        "id": "GuyJKHQoNy2a"
      }
    },
    {
      "cell_type": "code",
      "source": [],
      "metadata": {
        "colab": {
          "base_uri": "https://localhost:8080/",
          "height": 110
        },
        "id": "CVdrYyigQxSY",
        "outputId": "0f1f8602-1868-4e89-d6b7-64f8666b8cf0"
      },
      "execution_count": null,
      "outputs": [
        {
          "output_type": "error",
          "ename": "SyntaxError",
          "evalue": "invalid syntax (<ipython-input-42-ee9d17e6d7b9>, line 1)",
          "traceback": [
            "\u001b[0;36m  File \u001b[0;32m\"<ipython-input-42-ee9d17e6d7b9>\"\u001b[0;36m, line \u001b[0;32m1\u001b[0m\n\u001b[0;31m    a = set{}\u001b[0m\n\u001b[0m           ^\u001b[0m\n\u001b[0;31mSyntaxError\u001b[0m\u001b[0;31m:\u001b[0m invalid syntax\n"
          ]
        }
      ]
    },
    {
      "cell_type": "code",
      "source": [
        "se = {'sim', 1, 2, 3, 4, 'sag', 4}\n",
        "type(se)"
      ],
      "metadata": {
        "colab": {
          "base_uri": "https://localhost:8080/"
        },
        "id": "pHqQAUgiOCnD",
        "outputId": "1516f09c-c09a-40c3-c55d-b0955d99ffc9"
      },
      "execution_count": null,
      "outputs": [
        {
          "output_type": "execute_result",
          "data": {
            "text/plain": [
              "set"
            ]
          },
          "metadata": {},
          "execution_count": 32
        }
      ]
    },
    {
      "cell_type": "code",
      "source": [
        "print(se)"
      ],
      "metadata": {
        "colab": {
          "base_uri": "https://localhost:8080/"
        },
        "id": "b63YmuxyOLCR",
        "outputId": "c8511ec0-96b1-4fd4-9362-8930c69cce8c"
      },
      "execution_count": null,
      "outputs": [
        {
          "output_type": "stream",
          "name": "stdout",
          "text": [
            "{1, 2, 3, 4, 'sag', 'sim'}\n"
          ]
        }
      ]
    },
    {
      "cell_type": "markdown",
      "source": [
        "Dictionary { }\n",
        "\n",
        "\n",
        "*   Immutable\n",
        "*   key value pair\n",
        "\n",
        "\n"
      ],
      "metadata": {
        "id": "vlBcJcpROYrt"
      }
    },
    {
      "cell_type": "code",
      "source": [
        "print({'name':'sam', 'roll_no':32})"
      ],
      "metadata": {
        "colab": {
          "base_uri": "https://localhost:8080/"
        },
        "id": "VTCxkl5NOoEc",
        "outputId": "d4d02cda-211a-494d-e623-59dcbf2ce431"
      },
      "execution_count": null,
      "outputs": [
        {
          "output_type": "stream",
          "name": "stdout",
          "text": [
            "{'name': 'sam', 'roll_no': 32}\n"
          ]
        }
      ]
    },
    {
      "cell_type": "code",
      "source": [
        "d = {'brand':'Toyota', 'Model':'fortuner', 'year':2019}\n",
        "d['year']"
      ],
      "metadata": {
        "colab": {
          "base_uri": "https://localhost:8080/"
        },
        "id": "JbXvRC2fO2xy",
        "outputId": "63775447-12d9-47ca-99c4-743e91482e0a"
      },
      "execution_count": null,
      "outputs": [
        {
          "output_type": "execute_result",
          "data": {
            "text/plain": [
              "2019"
            ]
          },
          "metadata": {},
          "execution_count": 38
        }
      ]
    },
    {
      "cell_type": "code",
      "source": [
        "dic ={\n",
        "    \"brand\":\"Toyota\",\n",
        "    \"electric\": \"False\",\n",
        "    \"year\" : 2016,\n",
        "    \"colours\": [\"red\", \"blue\", \"green\"]\n",
        "}\n",
        "print(dic)"
      ],
      "metadata": {
        "colab": {
          "base_uri": "https://localhost:8080/"
        },
        "id": "Ys26GbDUPtxz",
        "outputId": "4bcf6382-60d4-40cb-97fd-4a954667fcb3"
      },
      "execution_count": null,
      "outputs": [
        {
          "output_type": "stream",
          "name": "stdout",
          "text": [
            "{'brand': 'Toyota', 'electric': 'False', 'year': 2016, 'colours': ['red', 'blue', 'green']}\n"
          ]
        }
      ]
    },
    {
      "cell_type": "markdown",
      "source": [
        "# User input"
      ],
      "metadata": {
        "id": "e55YOWVsQjZo"
      }
    },
    {
      "cell_type": "code",
      "source": [
        "#input()\n",
        "\n",
        "email = input(\"Enter your email\")\n",
        "print(\"your email id is : \",email)"
      ],
      "metadata": {
        "id": "irBP3Tn0Qt_A",
        "colab": {
          "base_uri": "https://localhost:8080/"
        },
        "outputId": "ff2a7157-fdb2-4203-af8d-9ff175a3c275"
      },
      "execution_count": null,
      "outputs": [
        {
          "output_type": "stream",
          "name": "stdout",
          "text": [
            "Enter your emailsag@gmail.com\n",
            "your email id is :  sag@gmail.com\n"
          ]
        }
      ]
    },
    {
      "cell_type": "code",
      "source": [
        "name = input(\"Enter your name: \")\n",
        "print(\"Hello\", name)"
      ],
      "metadata": {
        "colab": {
          "base_uri": "https://localhost:8080/"
        },
        "id": "6lHOgTmsR-OJ",
        "outputId": "d85dcbbf-9a67-4b39-fd17-45607f081c60"
      },
      "execution_count": null,
      "outputs": [
        {
          "output_type": "stream",
          "name": "stdout",
          "text": [
            "Enter your name: Vidhi\n",
            "Hello Vidhi\n"
          ]
        }
      ]
    },
    {
      "cell_type": "code",
      "source": [
        "#addition of 2 numbers\n",
        "m1 = int(input(\"Enter first number \"))   #5\n",
        "m2 = int(input(\"Enter second number \"))  #20\n",
        "\n",
        "sum = m1 + m2\n",
        "print(sum)                          #  25"
      ],
      "metadata": {
        "colab": {
          "base_uri": "https://localhost:8080/"
        },
        "id": "h6qPg283SmB4",
        "outputId": "0abade23-dda7-4574-8d7a-434cad4d1571"
      },
      "execution_count": null,
      "outputs": [
        {
          "output_type": "stream",
          "name": "stdout",
          "text": [
            "Enter first number 5\n",
            "Enter second number 20\n",
            "25\n"
          ]
        }
      ]
    },
    {
      "cell_type": "markdown",
      "source": [
        "# Operators"
      ],
      "metadata": {
        "id": "l5MR24N8UCFY"
      }
    },
    {
      "cell_type": "code",
      "source": [
        "#Arithmetic Op (+, -, *, /, %, **)\n",
        "print(5+5)          #5+5=10\n",
        "print(15-5)         #10\n",
        "print(3*7)          #21\n",
        "print(50/10)        #5\n",
        "print(28%2)         #28/2 -> 14 =0\n",
        "print(2**3)         #2*2*2\n"
      ],
      "metadata": {
        "colab": {
          "base_uri": "https://localhost:8080/"
        },
        "id": "RzLDNcwUUErR",
        "outputId": "a60a395f-32e7-4666-9875-f3cdcd586617"
      },
      "execution_count": null,
      "outputs": [
        {
          "output_type": "stream",
          "name": "stdout",
          "text": [
            "10\n",
            "10\n",
            "21\n",
            "5.0\n",
            "0\n",
            "8\n"
          ]
        }
      ]
    },
    {
      "cell_type": "code",
      "source": [
        "# Assignment operator\n",
        "# =\n",
        "a = 2     #a=2\n",
        "a +=3     #a+3 = 2+3 =5\n",
        "a"
      ],
      "metadata": {
        "colab": {
          "base_uri": "https://localhost:8080/"
        },
        "id": "ST1v5fwsUU4B",
        "outputId": "6898b1c5-fd80-465d-eaab-32246a804210"
      },
      "execution_count": null,
      "outputs": [
        {
          "output_type": "execute_result",
          "data": {
            "text/plain": [
              "5"
            ]
          },
          "metadata": {},
          "execution_count": 12
        }
      ]
    },
    {
      "cell_type": "code",
      "source": [
        "#Relational Operators (!=, >, <, == )\n",
        "\n",
        "#print(4 < 10)\n",
        "#print(4 != 10)\n",
        "#print(12 > 12)\n",
        "#print(4 == 10)\n",
        "print(10 >= 10)\n"
      ],
      "metadata": {
        "colab": {
          "base_uri": "https://localhost:8080/"
        },
        "id": "IWNx8YH9VhTI",
        "outputId": "4296e094-41b5-4705-d781-75c0519c57c9"
      },
      "execution_count": null,
      "outputs": [
        {
          "output_type": "stream",
          "name": "stdout",
          "text": [
            "True\n"
          ]
        }
      ]
    },
    {
      "cell_type": "markdown",
      "source": [
        "# Conditional Statement"
      ],
      "metadata": {
        "id": "gPMxQGTTZY9K"
      }
    },
    {
      "cell_type": "markdown",
      "source": [
        "if(condition):\n",
        "  "
      ],
      "metadata": {
        "id": "YeeIOHxrapw0"
      }
    },
    {
      "cell_type": "code",
      "source": [
        "# if\n",
        "\n",
        "a = 50\n",
        "b = 20\n",
        "if(a > b):\n",
        "  print(a, \"is greater than \", b)"
      ],
      "metadata": {
        "id": "pA6DlsksZehz"
      },
      "execution_count": null,
      "outputs": []
    },
    {
      "cell_type": "code",
      "source": [
        "# if-else\n",
        "\n",
        "a = int(input(\"Enter 1st number\"))\n",
        "b = int(input(\"Enter 2nd number\"))\n",
        "\n",
        "if(a > b):                                #(22 > 55)\n",
        "  print(a, \"is greater than\", b)\n",
        "else:\n",
        "  print(b, \"is greater than\", a )"
      ],
      "metadata": {
        "colab": {
          "base_uri": "https://localhost:8080/"
        },
        "id": "FC1RRdqna6kU",
        "outputId": "a01e209c-4bbb-4e56-bc65-49c60ab6bd2e"
      },
      "execution_count": null,
      "outputs": [
        {
          "output_type": "stream",
          "name": "stdout",
          "text": [
            "Enter 1st number22\n",
            "Enter 2nd number55\n",
            "55 is greater than 22\n"
          ]
        }
      ]
    },
    {
      "cell_type": "code",
      "source": [
        "a = int(input(\"Enter 1st number\"))\n",
        "b = int(input(\"Enter 2nd number\"))\n",
        "\n",
        "if(a > b):                                #(22 > 55)\n",
        "  print(a, \"is greater than\", b)\n",
        "elif(a==b):\n",
        "  print(a, \"is equal to \", b )\n",
        "else:\n",
        "  print(b, \"is greater than\", a )"
      ],
      "metadata": {
        "colab": {
          "base_uri": "https://localhost:8080/"
        },
        "id": "5jPfCY8qbwA0",
        "outputId": "cb0a6043-986d-4f52-b296-3f5aaa51fb3d"
      },
      "execution_count": null,
      "outputs": [
        {
          "output_type": "stream",
          "name": "stdout",
          "text": [
            "Enter 1st number20\n",
            "Enter 2nd number50\n",
            "50 is greater than 20\n"
          ]
        }
      ]
    },
    {
      "cell_type": "code",
      "source": [
        "# find the minimum of 3 given number using(else-if)\n",
        "\n",
        "x = int(input(\"Enter first integer: \"))\n",
        "y = int(input(\"Enter second integer: \"))\n",
        "z = int(input(\"Enter third integer: \"))\n",
        "\n",
        "if x <= y and x <= z:       # x<y<z\n",
        "    min_value = x\n",
        "elif (y <= x and y <= z):\n",
        "    min_value = y\n",
        "else:\n",
        "    min_value = z\n",
        "\n",
        "print(\"Minimum value:\", min_value)\n"
      ],
      "metadata": {
        "colab": {
          "base_uri": "https://localhost:8080/"
        },
        "id": "l59FwGOVck7y",
        "outputId": "d474da6f-8803-475c-cc36-2f424d05efc0"
      },
      "execution_count": null,
      "outputs": [
        {
          "output_type": "stream",
          "name": "stdout",
          "text": [
            "Enter first integer: 12\n",
            "Enter second integer: 6\n",
            "Enter third integer: 15\n",
            "Minimum value: 6\n"
          ]
        }
      ]
    },
    {
      "cell_type": "markdown",
      "source": [
        "# Loops"
      ],
      "metadata": {
        "id": "H76hQ6Preacb"
      }
    },
    {
      "cell_type": "code",
      "source": [
        "#while loop\n",
        "\n",
        "i =1\n",
        "while i<10:\n",
        "  print(i, \"hello\")\n",
        "  i +=1"
      ],
      "metadata": {
        "colab": {
          "base_uri": "https://localhost:8080/"
        },
        "id": "7t0K6dxJedlq",
        "outputId": "bce71c20-a6a0-495d-dac0-6563e8a30fca"
      },
      "execution_count": null,
      "outputs": [
        {
          "output_type": "stream",
          "name": "stdout",
          "text": [
            "1 hello\n",
            "2 hello\n",
            "3 hello\n",
            "4 hello\n",
            "5 hello\n",
            "6 hello\n",
            "7 hello\n",
            "8 hello\n",
            "9 hello\n"
          ]
        }
      ]
    },
    {
      "cell_type": "code",
      "source": [
        "num = 1\n",
        "while num <5:         #1\n",
        "  print(num)\n",
        "  num +=2\n",
        "else:\n",
        "  print(\"number more than 5\")"
      ],
      "metadata": {
        "colab": {
          "base_uri": "https://localhost:8080/"
        },
        "id": "vddWbBdofN7K",
        "outputId": "fcf548bd-64fc-4441-9513-cab8efa5f971"
      },
      "execution_count": null,
      "outputs": [
        {
          "output_type": "stream",
          "name": "stdout",
          "text": [
            "1\n",
            "3\n",
            "number more than 5\n"
          ]
        }
      ]
    },
    {
      "cell_type": "code",
      "source": [
        "number = int(input(\"enter number\"))\n",
        "\n",
        "i = 1\n",
        "while(i <= 15):\n",
        "  print(number,'*',i,'=',number*i)\n",
        "  i +=1"
      ],
      "metadata": {
        "colab": {
          "base_uri": "https://localhost:8080/"
        },
        "id": "22mVK7ImgeGB",
        "outputId": "12756888-59a3-43d5-9481-bf53de22811f"
      },
      "execution_count": null,
      "outputs": [
        {
          "output_type": "stream",
          "name": "stdout",
          "text": [
            "enter number5\n",
            "5 * 1 = 5\n",
            "5 * 2 = 10\n",
            "5 * 3 = 15\n",
            "5 * 4 = 20\n",
            "5 * 5 = 25\n",
            "5 * 6 = 30\n",
            "5 * 7 = 35\n",
            "5 * 8 = 40\n",
            "5 * 9 = 45\n",
            "5 * 10 = 50\n",
            "5 * 11 = 55\n",
            "5 * 12 = 60\n",
            "5 * 13 = 65\n",
            "5 * 14 = 70\n",
            "5 * 15 = 75\n"
          ]
        }
      ]
    },
    {
      "cell_type": "code",
      "source": [
        "#for loop\n",
        "for i in range(1,11):\n",
        "  print(i)"
      ],
      "metadata": {
        "colab": {
          "base_uri": "https://localhost:8080/"
        },
        "id": "47ILHjwAhMOg",
        "outputId": "d1d0df07-63e0-4540-ab4d-cb58827eb378"
      },
      "execution_count": null,
      "outputs": [
        {
          "output_type": "stream",
          "name": "stdout",
          "text": [
            "1\n",
            "2\n",
            "3\n",
            "4\n",
            "5\n",
            "6\n",
            "7\n",
            "8\n",
            "9\n",
            "10\n"
          ]
        }
      ]
    },
    {
      "cell_type": "code",
      "source": [
        "for i in range(1,11,3):\n",
        "  print(i)"
      ],
      "metadata": {
        "colab": {
          "base_uri": "https://localhost:8080/"
        },
        "id": "XafFNMHehomq",
        "outputId": "330a2c25-be61-4674-e80b-d5ee2e4b992b"
      },
      "execution_count": null,
      "outputs": [
        {
          "output_type": "stream",
          "name": "stdout",
          "text": [
            "1\n",
            "4\n",
            "7\n",
            "10\n"
          ]
        }
      ]
    },
    {
      "cell_type": "code",
      "source": [
        "for i in \"Anudip\":\n",
        "  print(i)"
      ],
      "metadata": {
        "colab": {
          "base_uri": "https://localhost:8080/"
        },
        "id": "t-SVkgdMh32g",
        "outputId": "e1270c1f-ade1-42ad-b0cb-2f692f132742"
      },
      "execution_count": null,
      "outputs": [
        {
          "output_type": "stream",
          "name": "stdout",
          "text": [
            "A\n",
            "n\n",
            "u\n",
            "d\n",
            "i\n",
            "p\n"
          ]
        }
      ]
    },
    {
      "cell_type": "code",
      "source": [
        "for i in range(1, 11):\n",
        "  if i == 7:\n",
        "    print(\"lmao\")\n",
        "    break\n",
        "  else:\n",
        "    print(i)"
      ],
      "metadata": {
        "colab": {
          "base_uri": "https://localhost:8080/"
        },
        "id": "C5bJ0U8_iJKx",
        "outputId": "be40e60b-31c1-45ed-90d6-be62df835ade"
      },
      "execution_count": null,
      "outputs": [
        {
          "output_type": "stream",
          "name": "stdout",
          "text": [
            "1\n",
            "2\n",
            "3\n",
            "4\n",
            "5\n",
            "6\n",
            "lmao\n"
          ]
        }
      ]
    },
    {
      "cell_type": "markdown",
      "source": [
        "*\n",
        "\n",
        "**\n",
        "\n",
        "***\n",
        "\n",
        "****\n"
      ],
      "metadata": {
        "id": "N0r6cgh7j_Au"
      }
    },
    {
      "cell_type": "code",
      "source": [
        "# nesteed loops\n",
        "for i in range(1,5):\n",
        "  for j in range(1,5):\n",
        "    print(i,j)"
      ],
      "metadata": {
        "colab": {
          "base_uri": "https://localhost:8080/"
        },
        "id": "XFY_1AEmiwJ4",
        "outputId": "91158f4c-61af-4c94-ac3e-106a5610729e"
      },
      "execution_count": null,
      "outputs": [
        {
          "output_type": "stream",
          "name": "stdout",
          "text": [
            "1 1\n",
            "1 2\n",
            "1 3\n",
            "1 4\n",
            "2 1\n",
            "2 2\n",
            "2 3\n",
            "2 4\n",
            "3 1\n",
            "3 2\n",
            "3 3\n",
            "3 4\n",
            "4 1\n",
            "4 2\n",
            "4 3\n",
            "4 4\n"
          ]
        }
      ]
    },
    {
      "cell_type": "code",
      "source": [
        "rows = int(input(\"enter number of rows \"))\n",
        "\n",
        "for i in range(1,rows+1):\n",
        "  for j in range(1,i+1):\n",
        "    print(\"*\",end=\"\")\n",
        "  print()"
      ],
      "metadata": {
        "colab": {
          "base_uri": "https://localhost:8080/"
        },
        "id": "7hXA8TswjYDZ",
        "outputId": "610f47a8-ba32-48fa-9f1e-9c17a27d72bc"
      },
      "execution_count": null,
      "outputs": [
        {
          "output_type": "stream",
          "name": "stdout",
          "text": [
            "enter number of rows 5\n",
            "*\n",
            "**\n",
            "***\n",
            "****\n",
            "*****\n"
          ]
        }
      ]
    },
    {
      "cell_type": "markdown",
      "source": [
        "# Functions"
      ],
      "metadata": {
        "id": "DDibBP2PkSoA"
      }
    },
    {
      "cell_type": "code",
      "source": [
        "def my_fun():\n",
        "  print(\"Hello world\")"
      ],
      "metadata": {
        "id": "pPhehvA6kV0w"
      },
      "execution_count": null,
      "outputs": []
    },
    {
      "cell_type": "code",
      "source": [
        "my_fun()"
      ],
      "metadata": {
        "colab": {
          "base_uri": "https://localhost:8080/"
        },
        "id": "2nVuFrfDkjJg",
        "outputId": "174e820b-f9d3-4465-82f6-9e76a629f6a1"
      },
      "execution_count": null,
      "outputs": [
        {
          "output_type": "stream",
          "name": "stdout",
          "text": [
            "Hello world\n"
          ]
        }
      ]
    },
    {
      "cell_type": "code",
      "source": [
        "def f_name(name):\n",
        "  print(name+ \" Hello\")\n",
        "\n",
        "def f_name(name,colour):\n",
        "  print(\" Hello\")\n"
      ],
      "metadata": {
        "id": "vgFzY2L1kqZ_"
      },
      "execution_count": null,
      "outputs": []
    },
    {
      "cell_type": "code",
      "source": [
        "f_name(\"rohit\",\"green\")\n",
        "\n"
      ],
      "metadata": {
        "colab": {
          "base_uri": "https://localhost:8080/"
        },
        "id": "TqJKGe-wk1ml",
        "outputId": "a01af514-8dc5-4de8-8a00-2cdeec37e682"
      },
      "execution_count": null,
      "outputs": [
        {
          "output_type": "stream",
          "name": "stdout",
          "text": [
            " Hello\n"
          ]
        }
      ]
    },
    {
      "cell_type": "code",
      "source": [
        "# function print         O/P: hello sagar parab\n",
        "def fun(fname,lname):\n",
        "\n"
      ],
      "metadata": {
        "id": "6vUJncImle23"
      },
      "execution_count": null,
      "outputs": []
    },
    {
      "cell_type": "code",
      "source": [
        "def fun(fname,lname):\n",
        "  print(\"Hello\",fname,lname)\n",
        "\n"
      ],
      "metadata": {
        "id": "az09uSvdl_Sg"
      },
      "execution_count": null,
      "outputs": []
    },
    {
      "cell_type": "code",
      "source": [
        "fun(\"Sakshi\",\"shenvekar\")\n",
        "\n"
      ],
      "metadata": {
        "colab": {
          "base_uri": "https://localhost:8080/"
        },
        "id": "GT48OGkQmJtg",
        "outputId": "11b99a69-d570-4046-9a90-816a5e6ce459"
      },
      "execution_count": null,
      "outputs": [
        {
          "output_type": "stream",
          "name": "stdout",
          "text": [
            "Hello Sakshi shenvekar\n"
          ]
        }
      ]
    }
  ]
}